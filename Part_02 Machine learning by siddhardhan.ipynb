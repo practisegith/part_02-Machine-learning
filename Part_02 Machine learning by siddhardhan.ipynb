{
 "cells": [
  {
   "cell_type": "markdown",
   "id": "1b397a0c",
   "metadata": {},
   "source": [
    "# Data Collection and preprocessing\n"
   ]
  },
  {
   "cell_type": "markdown",
   "id": "22ace676",
   "metadata": {},
   "source": [
    "# 1.Where to collect data for machine learning"
   ]
  },
  {
   "cell_type": "markdown",
   "id": "6e340b9e",
   "metadata": {},
   "source": [
    "First of all we know importance of machine learning\n",
    "\n",
    "Lets see example\n",
    "\n",
    "Suppose we have cats and dogs images, a system see this images and recognize that image represents cats & dogs.\n",
    "\n",
    "This is the problem statement we have.\n",
    "\n",
    "So,what we can do is feed these images of cats and dogs to our machine learning model ( models may be Neural \n",
    "\n",
    "Networks,Support Vector model..etc\n",
    "\n",
    "This model find pattern in those images.Suppose if eyes are small Then it is a cat.\n",
    "\n",
    "So that these type of features recognised by machine learning model.\n",
    "\n",
    "These are helps to predict whether it is a dog or cat.\n",
    "\n",
    "This is how we use data in machine learning "
   ]
  },
  {
   "cell_type": "markdown",
   "id": "e9fcc9e0",
   "metadata": {},
   "source": [
    "# Collecting data"
   ]
  },
  {
   "cell_type": "markdown",
   "id": "c0650749",
   "metadata": {},
   "source": [
    "1.Kaggle\n",
    "\n",
    "2.UCI machine learning Repository\n",
    "\n",
    "3.Google dataset search\n",
    "\n"
   ]
  },
  {
   "cell_type": "markdown",
   "id": "81a6a8cb",
   "metadata": {},
   "source": [
    "# 2.Importing Datasets through Kaggle API\n",
    "\n",
    "Here we see how to import dataset from kaggle to Google Colaboratory for this we are using API(Application Programming \n",
    "\n",
    "Interface)\n",
    "\n",
    "API is a Software Intermeadiator \n",
    "\n",
    "It allows two softwares or two applications to Communicate with each other to carry some Functions.\n",
    "\n",
    "Here function is data from Kaggle to Google Colab"
   ]
  },
  {
   "cell_type": "markdown",
   "id": "9d6b31c8",
   "metadata": {},
   "source": [
    "# Why we use this?\n",
    "\n",
    "Datasets with 5GB,10GB,100GB etc... For this cases we can't downloaded and uploaded into colab.\n",
    "\n",
    "In those cases APIs are really helpful ."
   ]
  },
  {
   "cell_type": "code",
   "execution_count": null,
   "id": "d8d8a911",
   "metadata": {},
   "outputs": [],
   "source": []
  }
 ],
 "metadata": {
  "kernelspec": {
   "display_name": "Python 3 (ipykernel)",
   "language": "python",
   "name": "python3"
  },
  "language_info": {
   "codemirror_mode": {
    "name": "ipython",
    "version": 3
   },
   "file_extension": ".py",
   "mimetype": "text/x-python",
   "name": "python",
   "nbconvert_exporter": "python",
   "pygments_lexer": "ipython3",
   "version": "3.10.4"
  }
 },
 "nbformat": 4,
 "nbformat_minor": 5
}
